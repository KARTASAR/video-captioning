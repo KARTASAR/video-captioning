{
  "cells": [
    {
      "cell_type": "code",
      "source": [
        "from google.colab import drive\n",
        "drive.mount('/content/drive')"
      ],
      "metadata": {
        "colab": {
          "base_uri": "https://localhost:8080/"
        },
        "id": "T7zb0OUJwI2V",
        "outputId": "e3c74c2f-bf46-434b-dd20-84bf92460a17"
      },
      "execution_count": null,
      "outputs": [
        {
          "output_type": "stream",
          "name": "stdout",
          "text": [
            "Mounted at /content/drive\n"
          ]
        }
      ]
    },
    {
      "cell_type": "code",
      "source": [
        "!pip install -q git+https://github.com/openai/CLIP.git transformers"
      ],
      "metadata": {
        "colab": {
          "base_uri": "https://localhost:8080/"
        },
        "id": "AVOAT-7vwE87",
        "outputId": "4499736a-3422-4989-c0b3-0229cc0d1e65"
      },
      "execution_count": null,
      "outputs": [
        {
          "output_type": "stream",
          "name": "stdout",
          "text": [
            "  Preparing metadata (setup.py) ... \u001b[?25l\u001b[?25hdone\n",
            "\u001b[2K     \u001b[90m━━━━━━━━━━━━━━━━━━━━━━━━━━━━━━━━━━━━━━━━\u001b[0m \u001b[32m5.8/5.8 MB\u001b[0m \u001b[31m85.3 MB/s\u001b[0m eta \u001b[36m0:00:00\u001b[0m\n",
            "\u001b[2K     \u001b[90m━━━━━━━━━━━━━━━━━━━━━━━━━━━━━━━━━━━━━━━━\u001b[0m \u001b[32m53.1/53.1 KB\u001b[0m \u001b[31m6.7 MB/s\u001b[0m eta \u001b[36m0:00:00\u001b[0m\n",
            "\u001b[2K     \u001b[90m━━━━━━━━━━━━━━━━━━━━━━━━━━━━━━━━━━━━━━\u001b[0m \u001b[32m182.4/182.4 KB\u001b[0m \u001b[31m21.8 MB/s\u001b[0m eta \u001b[36m0:00:00\u001b[0m\n",
            "\u001b[2K     \u001b[90m━━━━━━━━━━━━━━━━━━━━━━━━━━━━━━━━━━━━━━━━\u001b[0m \u001b[32m7.6/7.6 MB\u001b[0m \u001b[31m109.2 MB/s\u001b[0m eta \u001b[36m0:00:00\u001b[0m\n",
            "\u001b[?25h  Building wheel for clip (setup.py) ... \u001b[?25l\u001b[?25hdone\n"
          ]
        }
      ]
    },
    {
      "cell_type": "code",
      "source": [
        "!mkdir /content/data\n",
        "!cp -i /content/drive/MyDrive/Olimpiads/nto_hack_2022/V2/config.py /content/\n",
        "!cp -i /content/drive/MyDrive/Olimpiads/nto_hack_2022/V2/utils.py /content/\n",
        "!cp -i /content/drive/MyDrive/Olimpiads/nto_hack_2022/V2/model.py /content/\n",
        "!cp -r /content/drive/MyDrive/Olimpiads/nto_hack_2022/V2/data /content/"
      ],
      "metadata": {
        "id": "1gaLevU0wQup",
        "colab": {
          "base_uri": "https://localhost:8080/"
        },
        "outputId": "1040c378-d095-4202-bab3-4dc2af6ddf0f"
      },
      "execution_count": null,
      "outputs": [
        {
          "output_type": "stream",
          "name": "stdout",
          "text": [
            "cp: cannot stat '/content/drive/MyDrive/Olimpiads/nto_hack_2022/V2/train.csv': No such file or directory\n"
          ]
        }
      ]
    },
    {
      "cell_type": "code",
      "source": [
        "!unzip -q /content/drive/MyDrive/Olimpiads/nto_hack_2022/V2/videos_train.zip \n",
        "!mv videos_train /content/data"
      ],
      "metadata": {
        "id": "6HqCdkitz5SJ"
      },
      "execution_count": null,
      "outputs": []
    },
    {
      "cell_type": "code",
      "execution_count": null,
      "metadata": {
        "id": "K0I2EXpfR9uV"
      },
      "outputs": [],
      "source": [
        "import os\n",
        "import numpy as np\n",
        "from tqdm import tqdm\n",
        "import pandas as pd\n",
        "from sklearn.model_selection import train_test_split\n",
        "from PIL import Image\n",
        "import pickle\n",
        "import clip\n",
        "import gdown\n",
        "import zipfile\n",
        "\n",
        "from utils import *\n",
        "from model import *\n",
        "from config import CFG"
      ]
    },
    {
      "cell_type": "code",
      "execution_count": null,
      "metadata": {
        "colab": {
          "base_uri": "https://localhost:8080/"
        },
        "id": "XPZmxMSFR9ub",
        "outputId": "a1657037-2408-4b8f-fdf0-4fb45527eda5"
      },
      "outputs": [
        {
          "output_type": "stream",
          "name": "stderr",
          "text": [
            "100%|██████████| 1131/1131 [08:47<00:00,  2.14it/s]\n",
            "100%|██████████| 4520/4520 [35:05<00:00,  2.15it/s]\n"
          ]
        }
      ],
      "source": [
        "def preprocessing(cur_df, save_path):\n",
        "    all_frames = []\n",
        "    all_captions = []\n",
        "    i = 0\n",
        "    for caption, video_name in tqdm(zip(cur_df.caption, cur_df.paths), total=len(cur_df)):\n",
        "        name = f'{CFG.video_path}/{video_name}'\n",
        "        text = f'Caption: {caption}<|endoftext|>'\n",
        "\n",
        "        if os.path.exists(name):\n",
        "            \n",
        "            video = read_video(path = name, frames_num=1)\n",
        "\n",
        "            all_frames.append(video[0])\n",
        "            all_captions.append(text)\n",
        "\n",
        "    with open(save_path, 'wb') as f:\n",
        "        pickle.dump({\"clip_embedding\": all_frames, \"captions\": all_captions}, f)\n",
        "\n",
        "df = pd.read_csv(CFG.main_df_path, index_col=0)\n",
        "\n",
        "\n",
        "df, valid_df = train_test_split(df, test_size=0.2, random_state=42)\n",
        "\n",
        "# valid\n",
        "valid_df.to_csv(CFG.valid_df_path, index=False)\n",
        "preprocessing(valid_df, CFG.valid_features_path)\n",
        "\n",
        "# train\n",
        "df.to_csv(CFG.train_df_path, index=False)\n",
        "preprocessing(df, CFG.train_features_path)"
      ]
    },
    {
      "cell_type": "code",
      "execution_count": null,
      "metadata": {
        "id": "h6akhrpPR9uc"
      },
      "outputs": [],
      "source": [
        "!cp -r /content/data /content/drive/MyDrive/Olimpiads/nto_hack_2022/V2/"
      ]
    }
  ],
  "metadata": {
    "kernelspec": {
      "display_name": "Python 3.8.15 ('venv_2')",
      "language": "python",
      "name": "python3"
    },
    "language_info": {
      "codemirror_mode": {
        "name": "ipython",
        "version": 3
      },
      "file_extension": ".py",
      "mimetype": "text/x-python",
      "name": "python",
      "nbconvert_exporter": "python",
      "pygments_lexer": "ipython3",
      "version": "3.8.15 (default, Nov 24 2022, 15:19:38) \n[GCC 11.2.0]"
    },
    "orig_nbformat": 4,
    "vscode": {
      "interpreter": {
        "hash": "250a20577d0e1585cf7cc86e322aaf8568310437361837b38f6682d9b9966bc7"
      }
    },
    "colab": {
      "provenance": []
    },
    "gpuClass": "standard"
  },
  "nbformat": 4,
  "nbformat_minor": 0
}